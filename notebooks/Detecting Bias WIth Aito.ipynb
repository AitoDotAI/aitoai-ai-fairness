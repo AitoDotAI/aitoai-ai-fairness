{
 "cells": [
  {
   "cell_type": "markdown",
   "metadata": {},
   "source": [
    "## The Data\n",
    "\n",
    "In this example, we use the [German Credit Dataset](https://archive.ics.uci.edu/ml/datasets/statlog+(german+credit+data)) and examine the protected variable  `age <= 25` to avoid the model giving higher credit risk to people with young age. The data has been processed so that the features are human-readable. You can download the processed data [here](https://github.com/AitoDotAI/aitoai-ai-fairness/blob/master/data/german_credit_rating.ndjson)"
   ]
  },
  {
   "cell_type": "markdown",
   "metadata": {},
   "source": [
    "## Detect the data bias and the model bias"
   ]
  },
  {
   "cell_type": "markdown",
   "metadata": {},
   "source": [
    "Aito offers the [Relate API](https://aito.ai/docs/api/#post-api-v1-relate) the find the relationships between different feature. In this case, we want to examine the relationships between the people of young age and having a bad credit rating using the following query:\n",
    "```json\n",
    "{\n",
    "    \"from\": \"german_credit_rating\",\n",
    "    \"where\": {\n",
    "        \"age\": {\"$lt\": 25}\n",
    "    },\n",
    "    \"relate\": {\"credit_rating\": \"bad\"},\n",
    "    \"select\": [\"related\", \"condition\", \"lift\", \"ps\", \"fs\"]\n",
    "}\n",
    "```\n"
   ]
  },
  {
   "cell_type": "markdown",
   "metadata": {},
   "source": [
    "We can run the query using the [AitoClient](https://aitodotai.github.io/aito-python-tools/api/aito_client.html?highlight=aitoclient#) from the [Aito Python SDK](https://aitodotai.github.io/aito-python-tools/index.html)"
   ]
  },
  {
   "cell_type": "code",
   "execution_count": null,
   "metadata": {},
   "outputs": [],
   "source": [
    "!pip install aitoai"
   ]
  },
  {
   "cell_type": "code",
   "execution_count": 1,
   "metadata": {},
   "outputs": [],
   "source": [
    "from aito.sdk.aito_client import AitoClient\n",
    "import json"
   ]
  },
  {
   "cell_type": "code",
   "execution_count": 2,
   "metadata": {},
   "outputs": [
    {
     "name": "stdout",
     "output_type": "stream",
     "text": [
      "{\n",
      "    \"offset\": 0,\n",
      "    \"total\": 1,\n",
      "    \"hits\": [\n",
      "        {\n",
      "            \"related\": {\n",
      "                \"credit_rating\": {\n",
      "                    \"$has\": \"bad\"\n",
      "                }\n",
      "            },\n",
      "            \"condition\": {\n",
      "                \"age\": {\n",
      "                    \"$lt\": 25\n",
      "                }\n",
      "            },\n",
      "            \"lift\": 1.344021803525694,\n",
      "            \"ps\": {\n",
      "                \"p\": 0.3003992015968064,\n",
      "                \"pOnCondition\": 0.4037430767078182,\n",
      "                \"pOnNotCondition\": 0.2818548581580362,\n",
      "                \"pCondition\": 0.1490361738672945\n",
      "            },\n",
      "            \"fs\": {\n",
      "                \"f\": 300.0,\n",
      "                \"fOnCondition\": 61.0,\n",
      "                \"fOnNotCondition\": 239.0,\n",
      "                \"fCondition\": 149.0,\n",
      "                \"n\": 1000.0\n",
      "            }\n",
      "        }\n",
      "    ]\n",
      "}\n"
     ]
    }
   ],
   "source": [
    "client = AitoClient('https://public-1.api.aito.ai', 'bvss2i2dIkaWUfBCdzEO89LpxUkwO3A24hYg8MBq')\n",
    "relate_query = {\n",
    "    \"from\": \"german_credit_rating\",\n",
    "    \"where\": {\n",
    "        \"age\": {\"$lt\": 25}\n",
    "    },\n",
    "    \"relate\": {\"credit_rating\": \"bad\"},\n",
    "    \"select\": [\"related\", \"condition\", \"lift\", \"ps\", \"fs\"]\n",
    "}\n",
    "resp = client.request('POST', '/api/v1/_relate', relate_query)\n",
    "print(json.dumps(resp, indent=4))"
   ]
  },
  {
   "cell_type": "markdown",
   "metadata": {},
   "source": [
    "We will go through each field of the query result to see what Aito has discovered:\n",
    "\n",
    "- `\"lift\": 1.344021803525694`:\n",
    "    - You can read more about lift [here](https://aito.ai/docs/api/#p-vs-lift)\n",
    "    - This means that people with age of less than or equal to 25 will be approximately 34% more likely to get a bad credit rating\n",
    "    \n",
    "- `\"fs\"` - frequencies:\n",
    "    - `\"f\": 300.0`: 300 samples with bad credit rating in the data\n",
    "    - `\"fOnCondition\": 61.0`: 61 samples with bad credit rating and of young age\n",
    "    - `\"fOnNotCondition\": 239.0`: 239 samples with bad credit rating and not of young age\n",
    "    - `\"fCondition\": 149.0`: 149 samples of young age\n",
    "    - `\"n\": 1000.0`: 1000 total samples\n",
    "    - From the frequencies, we can observer that young people are not mis represented in the training data. People of young age takes about 20% (61/300) of the number of samples with bad credit rating and among the people of young age, roughly 41% (61/149) of them have bad credit rating.\n",
    "- `\"ps\"` - estimate probabilities:\n",
    "    - `\"p\": 0.3003992015968064`: Base probability of getting a bad credit rating\n",
    "    - `\"pOnCondition\": 0.4037430767078182`: P(bad crediting rating | age <= 25)\n",
    "    - `\"pOnNotCondition\"`: 0.2818548581580362`: P(bad crediting rating | age > 25)\n",
    "    - `\"pCondition\": 0.1490361738672945`: P(age <= 25)"
   ]
  },
  {
   "cell_type": "markdown",
   "metadata": {},
   "source": [
    "One common metric to measure the AI system fairness is the [statistical parity difference metric](https://dl.acm.org/doi/10.1145/2090236.2090255).\n",
    "It is the difference of the rate of favorable outcomes received by the \"protected\" group and the non-protected gorup. In this case, it can be formularized as:\n",
    "```\n",
    "P(bad credit rating | age <= 25) - P(bad credit rating | age > 25) = pOnCondition - pOnNotCondition\n",
    "```\n",
    "The ideal value of statistical parity difference is 0 and a value in the range of [-0.1, 0.1] is considered to be fair. In this example, we got a value of 0.12 which is demonstrates that Aito estimation is not too far off the standard."
   ]
  }
 ],
 "metadata": {
  "kernelspec": {
   "display_name": "Python 3",
   "language": "python",
   "name": "python3"
  },
  "language_info": {
   "codemirror_mode": {
    "name": "ipython",
    "version": 3
   },
   "file_extension": ".py",
   "mimetype": "text/x-python",
   "name": "python",
   "nbconvert_exporter": "python",
   "pygments_lexer": "ipython3",
   "version": "3.8.2"
  }
 },
 "nbformat": 4,
 "nbformat_minor": 4
}
